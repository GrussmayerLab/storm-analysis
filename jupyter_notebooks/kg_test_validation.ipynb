{
 "cells": [
  {
   "cell_type": "markdown",
   "metadata": {},
   "source": [
    "# Validation on simulated data set\n",
    "* use bead stack that was created for the PSF calibration\n",
    "* run fitter on test bead stack  "
   ]
  },
  {
   "cell_type": "code",
   "execution_count": 1,
   "metadata": {},
   "outputs": [
    {
     "name": "stdout",
     "output_type": "stream",
     "text": [
      "F:\\moritz\\babcock_test\\8plane\n"
     ]
    }
   ],
   "source": [
    "import os\n",
    "root=r\"F:\\moritz\\babcock_test\\8plane\"\n",
    "os.chdir(root)\n",
    "print(os.getcwd())"
   ]
  },
  {
   "cell_type": "markdown",
   "metadata": {},
   "source": [
    "### helpers"
   ]
  },
  {
   "cell_type": "code",
   "execution_count": 2,
   "metadata": {},
   "outputs": [],
   "source": [
    "# helpers \n",
    "import storm_analysis.sa_library.sa_h5py as saH5Py\n",
    "import os\n",
    "import numpy as np\n",
    "import re\n",
    "import matplotlib.pyplot as plt\n",
    "import pickle\n",
    "from tkinter import filedialog\n",
    "from tkinter import *\n",
    "import json\n",
    "from tqdm import tqdm\n",
    "import csv\n",
    "from natsort import natsorted\n",
    "\n",
    "def hdf5PxlToTxtNm(hdf5_name, txt_name, pixel_size):\n",
    "    locfields = ['x', 'y', 'z']\n",
    "    nmfields = [f+\"nm\" for f in locfields]\n",
    "    with saH5Py.SAH5Reader(hdf5_name) as h5:\n",
    "        nm_per_pixel = h5.getPixelSize()\n",
    "        [movie_x, movie_y, movie_l, hash_value] = h5.getMovieInformation()\n",
    "\n",
    "        with open(txt_name, \"w\") as fp:\n",
    "            has_header = False\n",
    "            fields = None\n",
    "            \n",
    "            # Convert tracks.\n",
    "            if h5.hasTracks():\n",
    "                index = 0\n",
    "                print(\"Converting tracks.\")\n",
    "                for tracks in tqdm(h5.tracksIterator()):\n",
    "                    \n",
    "                    if not has_header:\n",
    "                        fields = sorted(tracks.keys())\n",
    "                        fp.write(\",\".join([\"index\"] + fields + nmfields) + \"\\n\")\n",
    "                        has_header = True\n",
    "\n",
    "                    for i in range(tracks[\"x\"].size):\n",
    "                        text = [str(index)]\n",
    "                        cc = {}\n",
    "                        for field in fields:\n",
    "                            if(tracks[field].dtype == np.int32):\n",
    "                                text.append(str(tracks[field][i]))\n",
    "                            else:\n",
    "                                text.append(\"{0:.3f}\".format(tracks[field][i]))\n",
    "\n",
    "                            if field in locfields:\n",
    "                                cc[field] = tracks[field][i]\n",
    "\n",
    "                        for k in cc.keys():\n",
    "                            if(tracks[k].dtype == np.int32):\n",
    "                                text.append(str(tracks[k][i]*pixel_size))\n",
    "                            else:\n",
    "                                text.append(\"{0:.3f}\".format(tracks[k][i]*pixel_size))\n",
    "\n",
    "\n",
    "                        fp.write(\",\".join(text) + \"\\n\")\n",
    "                        index += 1\n",
    "                        \n",
    "            # Convert localizations.\n",
    "            else:\n",
    "                index = 0\n",
    "                print(\"Converting localizations.\")\n",
    "                for fnum, locs in tqdm(h5.localizationsIterator(drift_corrected = False)):\n",
    "                                        \n",
    "                    if not has_header:\n",
    "                        fields = sorted(locs.keys())\n",
    "                        fp.write(\",\".join([\"index\", \"frame\"] + fields + nmfields) + \"\\n\")\n",
    "                        has_header = True\n",
    "\n",
    "                    for i in range(locs[\"x\"].size):\n",
    "                        text = [str(index),str(fnum)]\n",
    "                        cc={}\n",
    "                        for field in fields:\n",
    "                            if(locs[field].dtype == np.int32):\n",
    "                                text.append(str(locs[field][i]))\n",
    "                            else:\n",
    "                                text.append(\"{0:.3f}\".format(locs[field][i]))\n",
    "\n",
    "                            if field in locfields:\n",
    "                                cc[field] = locs[field][i]\n",
    "\n",
    "                        for k in cc.keys():\n",
    "                            if(locs[k].dtype == np.int32):\n",
    "                                text.append(str(locs[k][i]*pixel_size))\n",
    "                            else:\n",
    "                                text.append(\"{0:.3f}\".format(locs[k][i]*pixel_size))\n",
    "                                \n",
    "                        fp.write(\",\".join(text) + \"\\n\")\n",
    "                        index += 1\n"
   ]
  },
  {
   "cell_type": "markdown",
   "metadata": {},
   "source": [
    "## check if prerequisite are met"
   ]
  },
  {
   "cell_type": "code",
   "execution_count": 3,
   "metadata": {},
   "outputs": [],
   "source": [
    "if not os.path.exists(\"weights.npy\"):\n",
    "    print(\"Please run the multiplane_psfs_to_spline notebook first\")\n",
    "\n",
    "if not os.path.exists(\"multiplane.xml\"):\n",
    "    print(\"Please run the multiplane_psfs_to_spline notebook first\")\n"
   ]
  },
  {
   "cell_type": "code",
   "execution_count": 4,
   "metadata": {},
   "outputs": [],
   "source": [
    "basename = os.path.join(r\"validation\", \"_\") \n",
    "mlist_name = os.path.join(r\"validation\", r'_validation_highcutoff.hdf5') "
   ]
  },
  {
   "cell_type": "code",
   "execution_count": 6,
   "metadata": {},
   "outputs": [
    {
     "ename": "KeyError",
     "evalue": "'2_0_x'",
     "output_type": "error",
     "traceback": [
      "\u001b[1;31m---------------------------------------------------------------------------\u001b[0m",
      "\u001b[1;31mKeyError\u001b[0m                                  Traceback (most recent call last)",
      "Cell \u001b[1;32mIn[6], line 2\u001b[0m\n\u001b[0;32m      1\u001b[0m \u001b[38;5;28;01mimport\u001b[39;00m \u001b[38;5;21;01mstorm_analysis\u001b[39;00m\u001b[38;5;21;01m.\u001b[39;00m\u001b[38;5;21;01mmulti_plane\u001b[39;00m\u001b[38;5;21;01m.\u001b[39;00m\u001b[38;5;21;01mmulti_plane\u001b[39;00m \u001b[38;5;28;01mas\u001b[39;00m \u001b[38;5;21;01mmp\u001b[39;00m\n\u001b[1;32m----> 2\u001b[0m \u001b[43mmp\u001b[49m\u001b[38;5;241;43m.\u001b[39;49m\u001b[43manalyze\u001b[49m\u001b[43m(\u001b[49m\u001b[43mbasename\u001b[49m\u001b[43m,\u001b[49m\u001b[43m \u001b[49m\u001b[43mmlist_name\u001b[49m\u001b[43m,\u001b[49m\u001b[43m \u001b[49m\u001b[38;5;124;43m'\u001b[39;49m\u001b[38;5;124;43mmultiplane.xml\u001b[39;49m\u001b[38;5;124;43m'\u001b[39;49m\u001b[43m)\u001b[49m\n",
      "File \u001b[1;32md:\\.anaconda\\envs\\mp_smlm\\Lib\\site-packages\\storm_analysis-2.2-py3.12.egg\\storm_analysis\\multi_plane\\multi_plane.py:21\u001b[0m, in \u001b[0;36manalyze\u001b[1;34m(base_name, mlist_name, settings_name)\u001b[0m\n\u001b[0;32m     18\u001b[0m parameters \u001b[38;5;241m=\u001b[39m params\u001b[38;5;241m.\u001b[39mParametersMultiplaneArb()\u001b[38;5;241m.\u001b[39minitFromFile(settings_name)\n\u001b[0;32m     20\u001b[0m \u001b[38;5;66;03m# Create finding and fitting object.\u001b[39;00m\n\u001b[1;32m---> 21\u001b[0m finder \u001b[38;5;241m=\u001b[39m \u001b[43mfindPeaksStd\u001b[49m\u001b[38;5;241;43m.\u001b[39;49m\u001b[43minitFindAndFit\u001b[49m\u001b[43m(\u001b[49m\u001b[43mparameters\u001b[49m\u001b[43m)\u001b[49m\n\u001b[0;32m     23\u001b[0m \u001b[38;5;66;03m# Create multiplane (sCMOS) reader.\u001b[39;00m\n\u001b[0;32m     24\u001b[0m reader \u001b[38;5;241m=\u001b[39m analysisIO\u001b[38;5;241m.\u001b[39mMPMovieReader(base_name \u001b[38;5;241m=\u001b[39m base_name,\n\u001b[0;32m     25\u001b[0m                                   parameters \u001b[38;5;241m=\u001b[39m parameters)\n",
      "File \u001b[1;32md:\\.anaconda\\envs\\mp_smlm\\Lib\\site-packages\\storm_analysis-2.2-py3.12.egg\\storm_analysis\\multi_plane\\find_peaks_std.py:159\u001b[0m, in \u001b[0;36minitFindAndFit\u001b[1;34m(parameters)\u001b[0m\n\u001b[0;32m    155\u001b[0m rqes \u001b[38;5;241m=\u001b[39m \u001b[38;5;28mlist\u001b[39m(\u001b[38;5;28mmap\u001b[39m(\u001b[38;5;28;01mlambda\u001b[39;00m x: finder\u001b[38;5;241m.\u001b[39mpadArray(x), rqes))\n\u001b[0;32m    157\u001b[0m \u001b[38;5;66;03m# Create mpFitC.MPFit object.\u001b[39;00m\n\u001b[0;32m    158\u001b[0m \u001b[38;5;66;03m#\u001b[39;00m\n\u001b[1;32m--> 159\u001b[0m mfitter \u001b[38;5;241m=\u001b[39m \u001b[43minitFitter\u001b[49m\u001b[43m(\u001b[49m\u001b[43mfinder\u001b[49m\u001b[38;5;241;43m.\u001b[39;49m\u001b[43mmargin\u001b[49m\u001b[43m,\u001b[49m\n\u001b[0;32m    160\u001b[0m \u001b[43m                     \u001b[49m\u001b[43mparameters\u001b[49m\u001b[43m,\u001b[49m\n\u001b[0;32m    161\u001b[0m \u001b[43m                     \u001b[49m\u001b[43mpsf_objects\u001b[49m\u001b[43m,\u001b[49m\n\u001b[0;32m    162\u001b[0m \u001b[43m                     \u001b[49m\u001b[43mrqes\u001b[49m\u001b[43m,\u001b[49m\n\u001b[0;32m    163\u001b[0m \u001b[43m                     \u001b[49m\u001b[43mvariances\u001b[49m\u001b[43m)\u001b[49m\n\u001b[0;32m    165\u001b[0m \u001b[38;5;66;03m# Create peak fitter.\u001b[39;00m\n\u001b[0;32m    166\u001b[0m \u001b[38;5;66;03m#\u001b[39;00m\n\u001b[0;32m    167\u001b[0m fitter \u001b[38;5;241m=\u001b[39m fittingMp\u001b[38;5;241m.\u001b[39mMPPeakFitterArb(mfitter \u001b[38;5;241m=\u001b[39m mfitter,\n\u001b[0;32m    168\u001b[0m                                    parameters \u001b[38;5;241m=\u001b[39m parameters)\n",
      "File \u001b[1;32md:\\.anaconda\\envs\\mp_smlm\\Lib\\site-packages\\storm_analysis-2.2-py3.12.egg\\storm_analysis\\multi_plane\\find_peaks_std.py:63\u001b[0m, in \u001b[0;36minitFitter\u001b[1;34m(margin, parameters, psf_objects, rqes, variances)\u001b[0m\n\u001b[0;32m     60\u001b[0m     \u001b[38;5;28;01melse\u001b[39;00m:\n\u001b[0;32m     61\u001b[0m         \u001b[38;5;28;01mraise\u001b[39;00m \u001b[38;5;167;01mException\u001b[39;00m(\u001b[38;5;124m\"\u001b[39m\u001b[38;5;124mMapping file\u001b[39m\u001b[38;5;124m\"\u001b[39m, parameters\u001b[38;5;241m.\u001b[39mgetAttr(\u001b[38;5;124m\"\u001b[39m\u001b[38;5;124mmapping\u001b[39m\u001b[38;5;124m\"\u001b[39m), \u001b[38;5;124m\"\u001b[39m\u001b[38;5;124mdoes not exist.\u001b[39m\u001b[38;5;124m\"\u001b[39m)\n\u001b[1;32m---> 63\u001b[0m     mfitter\u001b[38;5;241m.\u001b[39msetMapping(\u001b[38;5;241m*\u001b[39m\u001b[43mmpUtil\u001b[49m\u001b[38;5;241;43m.\u001b[39;49m\u001b[43mloadMappings\u001b[49m\u001b[43m(\u001b[49m\u001b[43mmapping_filename\u001b[49m\u001b[43m,\u001b[49m\u001b[43m \u001b[49m\u001b[43mmargin\u001b[49m\u001b[43m)\u001b[49m)\n\u001b[0;32m     65\u001b[0m \u001b[38;5;66;03m# Load channel Cramer-Rao weights if available.\u001b[39;00m\n\u001b[0;32m     66\u001b[0m \u001b[38;5;66;03m#\u001b[39;00m\n\u001b[0;32m     67\u001b[0m weights \u001b[38;5;241m=\u001b[39m \u001b[38;5;28;01mNone\u001b[39;00m\n",
      "File \u001b[1;32md:\\.anaconda\\envs\\mp_smlm\\Lib\\site-packages\\storm_analysis-2.2-py3.12.egg\\storm_analysis\\multi_plane\\mp_utilities.py:69\u001b[0m, in \u001b[0;36mloadMappings\u001b[1;34m(filename, margin)\u001b[0m\n\u001b[0;32m     67\u001b[0m     xt_0toN[i,:] \u001b[38;5;241m=\u001b[39m marginCorrect(mappings[\u001b[38;5;124m\"\u001b[39m\u001b[38;5;124m0_\u001b[39m\u001b[38;5;124m\"\u001b[39m \u001b[38;5;241m+\u001b[39m \u001b[38;5;28mstr\u001b[39m(i) \u001b[38;5;241m+\u001b[39m \u001b[38;5;124m\"\u001b[39m\u001b[38;5;124m_x\u001b[39m\u001b[38;5;124m\"\u001b[39m], margin)\n\u001b[0;32m     68\u001b[0m     yt_0toN[i,:] \u001b[38;5;241m=\u001b[39m marginCorrect(mappings[\u001b[38;5;124m\"\u001b[39m\u001b[38;5;124m0_\u001b[39m\u001b[38;5;124m\"\u001b[39m \u001b[38;5;241m+\u001b[39m \u001b[38;5;28mstr\u001b[39m(i) \u001b[38;5;241m+\u001b[39m \u001b[38;5;124m\"\u001b[39m\u001b[38;5;124m_y\u001b[39m\u001b[38;5;124m\"\u001b[39m], margin)\n\u001b[1;32m---> 69\u001b[0m     xt_Nto0[i,:] \u001b[38;5;241m=\u001b[39m marginCorrect(\u001b[43mmappings\u001b[49m\u001b[43m[\u001b[49m\u001b[38;5;28;43mstr\u001b[39;49m\u001b[43m(\u001b[49m\u001b[43mi\u001b[49m\u001b[43m)\u001b[49m\u001b[43m \u001b[49m\u001b[38;5;241;43m+\u001b[39;49m\u001b[43m \u001b[49m\u001b[38;5;124;43m\"\u001b[39;49m\u001b[38;5;124;43m_0_x\u001b[39;49m\u001b[38;5;124;43m\"\u001b[39;49m\u001b[43m]\u001b[49m, margin)\n\u001b[0;32m     70\u001b[0m     yt_Nto0[i,:] \u001b[38;5;241m=\u001b[39m marginCorrect(mappings[\u001b[38;5;28mstr\u001b[39m(i) \u001b[38;5;241m+\u001b[39m \u001b[38;5;124m\"\u001b[39m\u001b[38;5;124m_0_y\u001b[39m\u001b[38;5;124m\"\u001b[39m], margin)\n\u001b[0;32m     72\u001b[0m xt_0toN \u001b[38;5;241m=\u001b[39m numpy\u001b[38;5;241m.\u001b[39mascontiguousarray(xt_0toN, dtype \u001b[38;5;241m=\u001b[39m numpy\u001b[38;5;241m.\u001b[39mfloat64)\n",
      "\u001b[1;31mKeyError\u001b[0m: '2_0_x'"
     ]
    }
   ],
   "source": [
    "import storm_analysis.multi_plane.multi_plane as mp\n",
    "mp.analyze(basename, mlist_name, 'multiplane.xml')"
   ]
  },
  {
   "cell_type": "code",
   "execution_count": 41,
   "metadata": {},
   "outputs": [
    {
     "name": "stdout",
     "output_type": "stream",
     "text": [
      "Converting localizations.\n"
     ]
    }
   ],
   "source": [
    "import storm_analysis.sa_utilities.hdf5_to_txt as txt_conv\n",
    "txtname = mlist_name.replace('.hdf5', '.txt')\n",
    "txt_conv.hdf5ToTxt(mlist_name, txtname)"
   ]
  },
  {
   "cell_type": "code",
   "execution_count": 42,
   "metadata": {},
   "outputs": [],
   "source": [
    "pixel_size = 100 # nm"
   ]
  },
  {
   "cell_type": "code",
   "execution_count": 43,
   "metadata": {},
   "outputs": [
    {
     "name": "stdout",
     "output_type": "stream",
     "text": [
      "Writing to validation\\_validation_highcutoff_pxl2nm.txt\n",
      "Converting localizations.\n"
     ]
    },
    {
     "name": "stderr",
     "output_type": "stream",
     "text": [
      "151it [00:00, 232.65it/s]\n"
     ]
    }
   ],
   "source": [
    "# convert localisation coordinates from pixel to nm\n",
    "txtname = mlist_name.replace('.hdf5', '_pxl2nm.txt')\n",
    "print(f\"Writing to {txtname}\")\n",
    "hdf5PxlToTxtNm(mlist_name, txtname, pixel_size)"
   ]
  },
  {
   "cell_type": "code",
   "execution_count": 44,
   "metadata": {},
   "outputs": [
    {
     "name": "stdout",
     "output_type": "stream",
     "text": [
      "Tracks not found, using localizations.\n",
      ".\n"
     ]
    },
    {
     "data": {
      "text/plain": [
       "<matplotlib.image.AxesImage at 0x1e3de64fe90>"
      ]
     },
     "execution_count": 44,
     "metadata": {},
     "output_type": "execute_result"
    },
    {
     "data": {
      "image/png": "[encoded data removed]",
      "text/plain": [
       "<Figure size 640x480 with 1 Axes>"
      ]
     },
     "metadata": {},
     "output_type": "display_data"
    }
   ],
   "source": [
    "import storm_analysis.sa_utilities.hdf5_to_image as img_conv\n",
    "\n",
    "tiffname = mlist_name.replace('.hdf5', '.tiff')\n",
    "img2d = img_conv.render2DImage(mlist_name, scale = 4)\n",
    "plt.imshow(img2d)"
   ]
  },
  {
   "cell_type": "code",
   "execution_count": 45,
   "metadata": {},
   "outputs": [
    {
     "name": "stdout",
     "output_type": "stream",
     "text": [
      "Tracks not found, using localizations.\n",
      ".\n"
     ]
    },
    {
     "data": {
      "text/plain": [
       "(200, 300)"
      ]
     },
     "execution_count": 45,
     "metadata": {},
     "output_type": "execute_result"
    },
    {
     "data": {
      "image/png": "[encoded data removed]",
      "text/plain": [
       "<Figure size 640x480 with 1 Axes>"
      ]
     },
     "metadata": {},
     "output_type": "display_data"
    }
   ],
   "source": [
    "img3d = img_conv.render3DImage(mlist_name, z_edges= [-0.1, 0.1] , scale = 1)\n",
    "plt.imshow(img3d[0], cmap='inferno')\n",
    "img3d[0].shape"
   ]
  },
  {
   "cell_type": "code",
   "execution_count": null,
   "metadata": {},
   "outputs": [],
   "source": []
  }
 ],
 "metadata": {
  "kernelspec": {
   "display_name": "mp_smlm",
   "language": "python",
   "name": "python3"
  },
  "language_info": {
   "codemirror_mode": {
    "name": "ipython",
    "version": 3
   },
   "file_extension": ".py",
   "mimetype": "text/x-python",
   "name": "python",
   "nbconvert_exporter": "python",
   "pygments_lexer": "ipython3",
   "version": "3.12.8"
  }
 },
 "nbformat": 4,
 "nbformat_minor": 2
}
